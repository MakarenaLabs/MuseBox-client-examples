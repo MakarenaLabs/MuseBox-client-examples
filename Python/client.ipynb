{
 "cells": [
  {
   "cell_type": "code",
   "execution_count": null,
   "metadata": {},
   "outputs": [],
   "source": [
    "!pip3 install opencv-python zmq"
   ]
  },
  {
   "cell_type": "code",
   "execution_count": null,
   "metadata": {},
   "outputs": [],
   "source": [
    "import cv2\n",
    "import zmq\n",
    "import numpy as np\n",
    "import json"
   ]
  },
  {
   "cell_type": "code",
   "execution_count": null,
   "metadata": {},
   "outputs": [],
   "source": [
    "context = zmq.Context()\n",
    "socket = context.socket(zmq.PUB)\n",
    "try:\n",
    "    socket.bind(\"tcp://*:9696\")\n",
    "except zmq.error.ZMQError as e:\n",
    "    print(e)"
   ]
  },
  {
   "cell_type": "code",
   "execution_count": null,
   "metadata": {},
   "outputs": [],
   "source": [
    "socket2 = context.socket(zmq.SUB)\n",
    "socket2.connect(\"tcp://127.0.0.1:5556\")\n",
    "socket2.setsockopt_string(zmq.SUBSCRIBE, str(''))"
   ]
  },
  {
   "cell_type": "code",
   "execution_count": null,
   "metadata": {},
   "outputs": [],
   "source": [
    "message = {\n",
    "    \"topic\": \"FaceRecognition\",\n",
    "    \"clientId\": \"1\",\n",
    "    \"publisherQueue\": \"tcp://*:5556\"\n",
    "}\n",
    "\n",
    "camera = cv2.VideoCapture(0)\n",
    "while True:\n",
    "    # Capture the video frame\n",
    "    ret, frame = camera.read()\n",
    "    ret, image = cv2.imencode('.png', frame)\n",
    "    encoded = base64.b64encode(image)\n",
    "    message[\"image\"] = str(encoded, \"utf-8\")\n",
    "    socket.send_string(json.dumps(message))\n",
    "    \n",
    "    # waiting for response from server\n",
    "    message = json.loads(socket2.recv())\n",
    "    print(message)\n",
    "\n",
    "\n",
    "# After the loop release the cap object\n",
    "camera.release()"
   ]
  },
  {
   "cell_type": "code",
   "execution_count": null,
   "metadata": {},
   "outputs": [],
   "source": []
  }
 ],
 "metadata": {
  "kernelspec": {
   "display_name": "Python 3",
   "language": "python",
   "name": "python3"
  },
  "language_info": {
   "codemirror_mode": {
    "name": "ipython",
    "version": 3
   },
   "file_extension": ".py",
   "mimetype": "text/x-python",
   "name": "python",
   "nbconvert_exporter": "python",
   "pygments_lexer": "ipython3",
   "version": "3.8.10"
  }
 },
 "nbformat": 4,
 "nbformat_minor": 4
}
